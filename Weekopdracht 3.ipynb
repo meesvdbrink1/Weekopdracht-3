{
 "cells": [
  {
   "cell_type": "code",
   "execution_count": 13,
   "metadata": {},
   "outputs": [],
   "source": [
    "import seaborn as sns\n",
    "import pandas as pd\n",
    "import matplotlib.pyplot as plt\n",
    "import sklearn as sk\n",
    "from sklearn.model_selection import train_test_split\n",
    "from sklearn.metrics import confusion_matrix\n",
    "from sklearn.preprocessing import normalize\n",
    "from sklearn.ensemble import RandomForestClassifier"
   ]
  },
  {
   "cell_type": "code",
   "execution_count": 5,
   "metadata": {},
   "outputs": [],
   "source": [
    "df = pd.read_csv(\"voice.csv\")"
   ]
  },
  {
   "cell_type": "markdown",
   "metadata": {},
   "source": [
    "Ik heb het bestand ingelezen met pandas."
   ]
  },
  {
   "cell_type": "code",
   "execution_count": 6,
   "metadata": {},
   "outputs": [],
   "source": [
    "df2 = df[[\"meanfreq\", \"IQR\", \"mode\", \"meandom\", \"meanfun\", \"median\", \"label\"]]"
   ]
  },
  {
   "cell_type": "markdown",
   "metadata": {},
   "source": [
    "Ik heb de dataset \"Gender Recognition by Voice\" gekozen omdat dit mij simmpelweg het meest interessant lijkt. Hierbij heb ik gekeken naar welke variabelen er aanwezig zijn. Ik wist niet direct welke 7 variabelen ik moest kiezen dus heb opgezocht wat het inhoudt en ben de lijst met variabelen langs gegeaan. Ik heb de volgende variabelen gekozen, omdat ik denk dat hier het verschil tussen mannen en vrouwen aanwezig is:\n",
    "\n",
    "meanfreq --> de gemiddelde frequentie \n",
    "IQR --> de middelste helft van de verdeling \n",
    "mode --> waarde die het meest verkomt\n",
    "meandom --> het gemiddelde van de dominante frequentie\n",
    "meanfun --> gemiddelde van de grondfrequentie\n",
    "median --> de middelste waarneming\n",
    "label --> de variabele die aangeeft of het gaat om een man/vrouw\n",
    "\n",
    "Vervolgens heb ik een nieuwe dataset (df2) aangemaakt waarin ik de gekozen variabelen aan toevoeg."
   ]
  },
  {
   "cell_type": "code",
   "execution_count": 7,
   "metadata": {},
   "outputs": [
    {
     "data": {
      "text/html": [
       "<div>\n",
       "<style scoped>\n",
       "    .dataframe tbody tr th:only-of-type {\n",
       "        vertical-align: middle;\n",
       "    }\n",
       "\n",
       "    .dataframe tbody tr th {\n",
       "        vertical-align: top;\n",
       "    }\n",
       "\n",
       "    .dataframe thead th {\n",
       "        text-align: right;\n",
       "    }\n",
       "</style>\n",
       "<table border=\"1\" class=\"dataframe\">\n",
       "  <thead>\n",
       "    <tr style=\"text-align: right;\">\n",
       "      <th></th>\n",
       "      <th>meanfreq</th>\n",
       "      <th>IQR</th>\n",
       "      <th>mode</th>\n",
       "      <th>meandom</th>\n",
       "      <th>meanfun</th>\n",
       "      <th>median</th>\n",
       "      <th>label</th>\n",
       "    </tr>\n",
       "  </thead>\n",
       "  <tbody>\n",
       "    <tr>\n",
       "      <th>0</th>\n",
       "      <td>0.059781</td>\n",
       "      <td>0.075122</td>\n",
       "      <td>0.000000</td>\n",
       "      <td>0.007812</td>\n",
       "      <td>0.084279</td>\n",
       "      <td>0.032027</td>\n",
       "      <td>male</td>\n",
       "    </tr>\n",
       "    <tr>\n",
       "      <th>1</th>\n",
       "      <td>0.066009</td>\n",
       "      <td>0.073252</td>\n",
       "      <td>0.000000</td>\n",
       "      <td>0.009014</td>\n",
       "      <td>0.107937</td>\n",
       "      <td>0.040229</td>\n",
       "      <td>male</td>\n",
       "    </tr>\n",
       "    <tr>\n",
       "      <th>2</th>\n",
       "      <td>0.077316</td>\n",
       "      <td>0.123207</td>\n",
       "      <td>0.000000</td>\n",
       "      <td>0.007990</td>\n",
       "      <td>0.098706</td>\n",
       "      <td>0.036718</td>\n",
       "      <td>male</td>\n",
       "    </tr>\n",
       "    <tr>\n",
       "      <th>3</th>\n",
       "      <td>0.151228</td>\n",
       "      <td>0.111374</td>\n",
       "      <td>0.083878</td>\n",
       "      <td>0.201497</td>\n",
       "      <td>0.088965</td>\n",
       "      <td>0.158011</td>\n",
       "      <td>male</td>\n",
       "    </tr>\n",
       "    <tr>\n",
       "      <th>4</th>\n",
       "      <td>0.135120</td>\n",
       "      <td>0.127325</td>\n",
       "      <td>0.104261</td>\n",
       "      <td>0.712812</td>\n",
       "      <td>0.106398</td>\n",
       "      <td>0.124656</td>\n",
       "      <td>male</td>\n",
       "    </tr>\n",
       "    <tr>\n",
       "      <th>...</th>\n",
       "      <td>...</td>\n",
       "      <td>...</td>\n",
       "      <td>...</td>\n",
       "      <td>...</td>\n",
       "      <td>...</td>\n",
       "      <td>...</td>\n",
       "      <td>...</td>\n",
       "    </tr>\n",
       "    <tr>\n",
       "      <th>3163</th>\n",
       "      <td>0.131884</td>\n",
       "      <td>0.151859</td>\n",
       "      <td>0.200836</td>\n",
       "      <td>0.832899</td>\n",
       "      <td>0.182790</td>\n",
       "      <td>0.153707</td>\n",
       "      <td>female</td>\n",
       "    </tr>\n",
       "    <tr>\n",
       "      <th>3164</th>\n",
       "      <td>0.116221</td>\n",
       "      <td>0.162193</td>\n",
       "      <td>0.013683</td>\n",
       "      <td>0.909856</td>\n",
       "      <td>0.188980</td>\n",
       "      <td>0.076758</td>\n",
       "      <td>female</td>\n",
       "    </tr>\n",
       "    <tr>\n",
       "      <th>3165</th>\n",
       "      <td>0.142056</td>\n",
       "      <td>0.190936</td>\n",
       "      <td>0.008006</td>\n",
       "      <td>0.494271</td>\n",
       "      <td>0.209918</td>\n",
       "      <td>0.183731</td>\n",
       "      <td>female</td>\n",
       "    </tr>\n",
       "    <tr>\n",
       "      <th>3166</th>\n",
       "      <td>0.143659</td>\n",
       "      <td>0.176435</td>\n",
       "      <td>0.212202</td>\n",
       "      <td>0.791360</td>\n",
       "      <td>0.172375</td>\n",
       "      <td>0.184976</td>\n",
       "      <td>female</td>\n",
       "    </tr>\n",
       "    <tr>\n",
       "      <th>3167</th>\n",
       "      <td>0.165509</td>\n",
       "      <td>0.180756</td>\n",
       "      <td>0.267702</td>\n",
       "      <td>0.227022</td>\n",
       "      <td>0.185607</td>\n",
       "      <td>0.183044</td>\n",
       "      <td>female</td>\n",
       "    </tr>\n",
       "  </tbody>\n",
       "</table>\n",
       "<p>3168 rows × 7 columns</p>\n",
       "</div>"
      ],
      "text/plain": [
       "      meanfreq       IQR      mode   meandom   meanfun    median   label\n",
       "0     0.059781  0.075122  0.000000  0.007812  0.084279  0.032027    male\n",
       "1     0.066009  0.073252  0.000000  0.009014  0.107937  0.040229    male\n",
       "2     0.077316  0.123207  0.000000  0.007990  0.098706  0.036718    male\n",
       "3     0.151228  0.111374  0.083878  0.201497  0.088965  0.158011    male\n",
       "4     0.135120  0.127325  0.104261  0.712812  0.106398  0.124656    male\n",
       "...        ...       ...       ...       ...       ...       ...     ...\n",
       "3163  0.131884  0.151859  0.200836  0.832899  0.182790  0.153707  female\n",
       "3164  0.116221  0.162193  0.013683  0.909856  0.188980  0.076758  female\n",
       "3165  0.142056  0.190936  0.008006  0.494271  0.209918  0.183731  female\n",
       "3166  0.143659  0.176435  0.212202  0.791360  0.172375  0.184976  female\n",
       "3167  0.165509  0.180756  0.267702  0.227022  0.185607  0.183044  female\n",
       "\n",
       "[3168 rows x 7 columns]"
      ]
     },
     "execution_count": 7,
     "metadata": {},
     "output_type": "execute_result"
    }
   ],
   "source": [
    "df2.dropna()"
   ]
  },
  {
   "cell_type": "markdown",
   "metadata": {},
   "source": [
    "Ik heb de rijen zonder waarden verwijderd. Echter zijn er nog steeds evenveel rijen, er waren dus geen rijen zonder waarden."
   ]
  },
  {
   "cell_type": "code",
   "execution_count": 50,
   "metadata": {},
   "outputs": [
    {
     "data": {
      "image/png": "[encoded data removed]",
      "text/plain": [
       "<Figure size 640x480 with 1 Axes>"
      ]
     },
     "metadata": {},
     "output_type": "display_data"
    }
   ],
   "source": [
    "sns.histplot(data=df2, x=\"label\", y=\"meanfun\")\n",
    "plt.show()"
   ]
  },
  {
   "cell_type": "markdown",
   "metadata": {},
   "source": [
    "In de bovenstaande histogram is te zien dat de gemiddelde grondfrequentie bij vrouwen gemiddeld hoger ligt dan bij mannen. "
   ]
  },
  {
   "cell_type": "markdown",
   "metadata": {},
   "source": [
    "Ik heb gekozen voor het voorspellend model random forest. Dit model maakt gebruik van meerdere beslisbomen. Per aftakking wordt op basis van de uitkomst gekeken hoe groot de kans is dat het een man of vrouw is in dit geval. Om dit zo goed mogelijk te doen wordt de beslisboom meerdere keren doorlopen waarbij de volgorde in de beslisboom verschilt."
   ]
  },
  {
   "cell_type": "code",
   "execution_count": 12,
   "metadata": {},
   "outputs": [],
   "source": [
    "X = df.loc[:,\"meanfreq\":\"median\"] \n",
    "y = df[\"label\"]\n",
    "X_train, X_test, y_train, y_test = train_test_split(X, y, test_size=0.3, random_state=1)"
   ]
  },
  {
   "cell_type": "markdown",
   "metadata": {},
   "source": [
    "Ik heb bepaald welke variabele ik wil voorspellen en welke variabelen ik daarvoor wil gebruiken. Ik heb de data gesplitst in train en test sets."
   ]
  },
  {
   "cell_type": "code",
   "execution_count": 18,
   "metadata": {},
   "outputs": [],
   "source": [
    "rf = RandomForestClassifier(random_state=1, n_estimators=10) \n",
    "rf = rf.fit(X_train, y_train)"
   ]
  },
  {
   "cell_type": "markdown",
   "metadata": {},
   "source": [
    "IK heb bepaald wat het random forest model moet doen. Ik heb estimator 10 gebruikt om de snelheid te bevorederen, ook heb ik estimator 100 geprobeerd maar het verschil was minimaal (als je kijkt naar de score bij de volgende stap). Vervolgens heb ik het model getraind."
   ]
  },
  {
   "cell_type": "code",
   "execution_count": 19,
   "metadata": {},
   "outputs": [
    {
     "data": {
      "text/plain": [
       "0.8380651945320715"
      ]
     },
     "execution_count": 19,
     "metadata": {},
     "output_type": "execute_result"
    }
   ],
   "source": [
    "rf.score(X_test,y_test)"
   ]
  },
  {
   "cell_type": "markdown",
   "metadata": {},
   "source": [
    "Ik heb de nauwkeurigheid van het model berekend. Dit is boven de 80%, dus hoog genoeg."
   ]
  },
  {
   "cell_type": "code",
   "execution_count": 28,
   "metadata": {},
   "outputs": [
    {
     "data": {
      "text/html": [
       "<div>\n",
       "<style scoped>\n",
       "    .dataframe tbody tr th:only-of-type {\n",
       "        vertical-align: middle;\n",
       "    }\n",
       "\n",
       "    .dataframe tbody tr th {\n",
       "        vertical-align: top;\n",
       "    }\n",
       "\n",
       "    .dataframe thead th {\n",
       "        text-align: right;\n",
       "    }\n",
       "</style>\n",
       "<table border=\"1\" class=\"dataframe\">\n",
       "  <thead>\n",
       "    <tr style=\"text-align: right;\">\n",
       "      <th></th>\n",
       "      <th>man (voorspelling)</th>\n",
       "      <th>vrouw (voorspelling)</th>\n",
       "    </tr>\n",
       "  </thead>\n",
       "  <tbody>\n",
       "    <tr>\n",
       "      <th>man (werkelijk)</th>\n",
       "      <td>378</td>\n",
       "      <td>79</td>\n",
       "    </tr>\n",
       "    <tr>\n",
       "      <th>vrouw (werkelijk)</th>\n",
       "      <td>75</td>\n",
       "      <td>419</td>\n",
       "    </tr>\n",
       "  </tbody>\n",
       "</table>\n",
       "</div>"
      ],
      "text/plain": [
       "                   man (voorspelling)  vrouw (voorspelling)\n",
       "man (werkelijk)                   378                    79\n",
       "vrouw (werkelijk)                  75                   419"
      ]
     },
     "execution_count": 28,
     "metadata": {},
     "output_type": "execute_result"
    }
   ],
   "source": [
    "y_pred = rf.predict(X_test) \n",
    "cm = confusion_matrix(y_test, y_pred) \n",
    "cm = pd.DataFrame(cm, index=[\"man (werkelijk)\", \"vrouw (werkelijk)\"], columns = [\"man (voorspelling)\", \"vrouw (voorspelling)\"]) \n",
    "cm"
   ]
  },
  {
   "cell_type": "markdown",
   "metadata": {},
   "source": [
    "Ik heb een confusion matrix gemaakt waarin de voorspellingen te zien zijn. Ook is te zien wat het werkelijk is. Zo is dus te zien hoeveel voorspellingen goed zijn en hoeveel voorspellingen fout zijn."
   ]
  },
  {
   "cell_type": "code",
   "execution_count": 25,
   "metadata": {},
   "outputs": [
    {
     "data": {
      "text/plain": [
       "0.8380651945320715"
      ]
     },
     "execution_count": 25,
     "metadata": {},
     "output_type": "execute_result"
    }
   ],
   "source": [
    "(378+419)/(378+79+75+419)"
   ]
  },
  {
   "cell_type": "markdown",
   "metadata": {},
   "source": [
    "Ik heb de accuracy (nauwkeurigheid) nog een keer berekend en dit komt overeen met de nauwkeurigheid die ik eerder berekend heb. De nauwkeurigheid geeft aan welk percentage van de voorspellingen juist was. De nauwkeurigheid zit boven de 80% en is dus goed genoeg om mee te werken."
   ]
  },
  {
   "cell_type": "code",
   "execution_count": 26,
   "metadata": {},
   "outputs": [
    {
     "data": {
      "text/plain": [
       "0.8344370860927153"
      ]
     },
     "execution_count": 26,
     "metadata": {},
     "output_type": "execute_result"
    }
   ],
   "source": [
    "378/(378+75)"
   ]
  },
  {
   "cell_type": "code",
   "execution_count": 27,
   "metadata": {},
   "outputs": [
    {
     "data": {
      "text/plain": [
       "0.8413654618473896"
      ]
     },
     "execution_count": 27,
     "metadata": {},
     "output_type": "execute_result"
    }
   ],
   "source": [
    "419/(419+79)"
   ]
  },
  {
   "cell_type": "markdown",
   "metadata": {},
   "source": [
    "Ik heb voor zowel man als vrouw berekend wat de precision is. De precision geeft aan welk percentage van de voorspellingen man daadwerkelijk man was. Hetzelfde geldt voor vrouw. Beide scores voor precision zitten boven de 80% en zijn dus hoog genoeg."
   ]
  },
  {
   "cell_type": "code",
   "execution_count": 29,
   "metadata": {},
   "outputs": [
    {
     "data": {
      "text/plain": [
       "0.8271334792122538"
      ]
     },
     "execution_count": 29,
     "metadata": {},
     "output_type": "execute_result"
    }
   ],
   "source": [
    "378/(378+79)"
   ]
  },
  {
   "cell_type": "code",
   "execution_count": 30,
   "metadata": {},
   "outputs": [
    {
     "data": {
      "text/plain": [
       "0.8481781376518218"
      ]
     },
     "execution_count": 30,
     "metadata": {},
     "output_type": "execute_result"
    }
   ],
   "source": [
    "419/(419+75)"
   ]
  },
  {
   "cell_type": "markdown",
   "metadata": {},
   "source": [
    "Ik heb de recall voor zowel man als vrouw berekend. De recall geeft aan hoeveel van de daadwerkelijke mannen voorspelt zijn als man. Hetzelfde geldt voor vrouw. Ook hier zijn de scores hoger dan 80% en dus hoog genoeg."
   ]
  },
  {
   "cell_type": "markdown",
   "metadata": {},
   "source": [
    "Uiteindelijk kan geconcludeerd worden dat aan de hand van het random forest model nauwkeurigheidsscores van boven de 80% worden gehaald, het model voorspelt goed genoeg om mee te werken."
   ]
  }
 ],
 "metadata": {
  "kernelspec": {
   "display_name": "Python 3.9.12",
   "language": "python",
   "name": "python3"
  },
  "language_info": {
   "codemirror_mode": {
    "name": "ipython",
    "version": 3
   },
   "file_extension": ".py",
   "mimetype": "text/x-python",
   "name": "python",
   "nbconvert_exporter": "python",
   "pygments_lexer": "ipython3",
   "version": "3.9.12"
  },
  "orig_nbformat": 4,
  "vscode": {
   "interpreter": {
    "hash": "04e1efc6012ccda1a801e66b7f67f586c4b5009ad53025427591f15540fc7a45"
   }
  }
 },
 "nbformat": 4,
 "nbformat_minor": 2
}
